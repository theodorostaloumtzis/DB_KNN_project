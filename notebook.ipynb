{
 "cells": [
  {
   "cell_type": "markdown",
   "metadata": {},
   "source": [
    "### Step 1: Load and Preprocess the Dataset\n",
    "1. Download the dataset from the UCI repository.\n",
    "2. Exclude the Drinks column (the last column in the dataset).\n",
    "\n"
   ]
  },
  {
   "cell_type": "code",
   "execution_count": 1,
   "metadata": {},
   "outputs": [],
   "source": [
    "import pandas as pd\n",
    "from sklearn.model_selection import train_test_split\n",
    "from sklearn.preprocessing import StandardScaler\n",
    "import numpy as np\n",
    "\n",
    "# Load the dataset from a URL\n",
    "url = \"https://archive.ics.uci.edu/ml/machine-learning-databases/liver-disorders/bupa.data\"\n",
    "columns = [\"mcv\", \"alkphos\", \"sgpt\", \"sgot\", \"gammagt\", \"drinks\", \"selector\"]\n",
    "data = pd.read_csv(url, names=columns)\n",
    "\n",
    "# Drop the 'selector' column\n",
    "data = data.drop(columns=[\"selector\"])\n",
    "\n",
    "# Bin the 'drinks' column into categories\n",
    "bins = [0, 1, 3, np.inf]  # Define bin edges: 0-1 (low), 1-3 (moderate), 3+ (high)\n",
    "labels = [0, 1, 2]  # Define class labels\n",
    "data[\"drinks\"] = pd.cut(data[\"drinks\"], bins=bins, labels=labels, include_lowest=True)\n",
    "\n",
    "# Handle potential NaN values in 'drinks' column\n",
    "data[\"drinks\"] = data[\"drinks\"].cat.codes  # Convert categories to integers\n",
    "\n",
    "# Separate features and target\n",
    "X = data.iloc[:, :-1].values  # Features (all columns except the last one)\n",
    "y = data.iloc[:, -1].values  # Target (binned 'drinks')\n",
    "\n",
    "# Split into training and test sets\n",
    "X_train, X_test, y_train, y_test = train_test_split(X, y, test_size=0.33, random_state=42)\n",
    "\n",
    "# Standardize the features\n",
    "scaler = StandardScaler()\n",
    "X_train = scaler.fit_transform(X_train)\n",
    "X_test = scaler.transform(X_test)\n"
   ]
  },
  {
   "cell_type": "markdown",
   "metadata": {},
   "source": [
    "### Step 2: Use the db_knn_predict Function for Classification\n",
    "Ensure the \"db_knn_predict\" function is set up to handle the training and testing datasets. Use the \"train_data\" and \"test_data\" prepared above."
   ]
  },
  {
   "cell_type": "code",
   "execution_count": 2,
   "metadata": {},
   "outputs": [],
   "source": [
    "from density_knn1 import db_knn_predict\n",
    "\n",
    "# Combine features and labels into NumPy arrays for DB-kNN\n",
    "train_data = np.hstack((X_train, y_train.reshape(-1, 1)))\n",
    "test_data = np.hstack((X_test, y_test.reshape(-1, 1)))\n",
    "\n",
    "# Set DB-kNN parameters\n",
    "k = 7\n",
    "radius = 10\n",
    "\n",
    "# Make predictions\n",
    "predictions = db_knn_predict(train_data, y_train, test_data, k, radius)\n"
   ]
  },
  {
   "cell_type": "markdown",
   "metadata": {},
   "source": [
    "### Step 3: Evaluate Classification Performance\n",
    "Evaluate the predictions using accuracy and a classification report."
   ]
  },
  {
   "cell_type": "code",
   "execution_count": 3,
   "metadata": {},
   "outputs": [
    {
     "name": "stdout",
     "output_type": "stream",
     "text": [
      "Accuracy: 0.3684210526315789\n",
      "Classification Report:\n",
      "               precision    recall  f1-score   support\n",
      "\n",
      "           0       0.37      1.00      0.54        42\n",
      "           1       0.00      0.00      0.00        20\n",
      "           2       0.00      0.00      0.00        52\n",
      "\n",
      "    accuracy                           0.37       114\n",
      "   macro avg       0.12      0.33      0.18       114\n",
      "weighted avg       0.14      0.37      0.20       114\n",
      "\n"
     ]
    },
    {
     "name": "stderr",
     "output_type": "stream",
     "text": [
      "c:\\Users\\talou\\Documents\\Projects\\DB_kNN\\venv\\Lib\\site-packages\\sklearn\\metrics\\_classification.py:1531: UndefinedMetricWarning: Precision is ill-defined and being set to 0.0 in labels with no predicted samples. Use `zero_division` parameter to control this behavior.\n",
      "  _warn_prf(average, modifier, f\"{metric.capitalize()} is\", len(result))\n",
      "c:\\Users\\talou\\Documents\\Projects\\DB_kNN\\venv\\Lib\\site-packages\\sklearn\\metrics\\_classification.py:1531: UndefinedMetricWarning: Precision is ill-defined and being set to 0.0 in labels with no predicted samples. Use `zero_division` parameter to control this behavior.\n",
      "  _warn_prf(average, modifier, f\"{metric.capitalize()} is\", len(result))\n",
      "c:\\Users\\talou\\Documents\\Projects\\DB_kNN\\venv\\Lib\\site-packages\\sklearn\\metrics\\_classification.py:1531: UndefinedMetricWarning: Precision is ill-defined and being set to 0.0 in labels with no predicted samples. Use `zero_division` parameter to control this behavior.\n",
      "  _warn_prf(average, modifier, f\"{metric.capitalize()} is\", len(result))\n"
     ]
    }
   ],
   "source": [
    "from sklearn.metrics import accuracy_score, classification_report\n",
    "\n",
    "# Evaluate predictions\n",
    "accuracy = accuracy_score(y_test, predictions)\n",
    "print(\"Accuracy:\", accuracy)\n",
    "\n",
    "print(\"Classification Report:\\n\", classification_report(y_test, predictions))\n"
   ]
  }
 ],
 "metadata": {
  "kernelspec": {
   "display_name": "venv",
   "language": "python",
   "name": "python3"
  },
  "language_info": {
   "codemirror_mode": {
    "name": "ipython",
    "version": 3
   },
   "file_extension": ".py",
   "mimetype": "text/x-python",
   "name": "python",
   "nbconvert_exporter": "python",
   "pygments_lexer": "ipython3",
   "version": "3.13.0"
  }
 },
 "nbformat": 4,
 "nbformat_minor": 2
}
